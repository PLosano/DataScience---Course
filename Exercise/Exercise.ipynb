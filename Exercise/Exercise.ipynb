{
  "cells": [
    {
      "attachments": {},
      "cell_type": "markdown",
      "metadata": {
        "id": "DYKTxvoMT5KO"
      },
      "source": [
        "# 3er entrega - Sistemas de recomendación\n",
        "\n",
        "En esta entrega vamos a trabajar con un sistema de recomendación.\n",
        "\n",
        "Vamos a aprovechar la competencia de Telecom que vimos ya que los datos son reales y están buenos para practicar.\n",
        "\n",
        "En el siguiente repositorio pueden encontrar el significado de cada columna de los datasets:\n",
        "https://github.com/Datathon2021/Recomendador\n",
        "\n",
        "Consigna:\n",
        "\n",
        "- Dividir set en train y test. Tomar como train los datos hasta el 1 de marzo de 2021. Desde el 1ro de marzo en adelante, reservar para test.\n",
        "- Desarrollar un recomendador. El recomendador debe ser capaz de generar recomendaciones para TODOS los usuarios (incluyendo los cold start que no tengan visualizaciones en el set de train). Generar 20 recomendaciones por usuario.\n",
        "- Las recomendaciones tienen que ser para cada account_id y hay que recomendar content_id (NO asset_id). Pueden encontrar esto en el repositorio de la competencia.\n",
        "- Los contenidos que recomienden, no tienen que haber sido vistos previamente por los usuarios (filtrar).\n",
        "- Evaluarlo con MAP.\n",
        "\n",
        "Recomendaciones:\n",
        "- En este caso no tenemos ratings explícitos como los casos que vimos, deben generar ustedes estos ratings mediante algún criterio. Lo más simple podría ser utilizar ratings binarios (lo vió / no lo vió).\n",
        "- Hay una columna que nos indica hasta cuando va a estar disponible el contenido\n",
        "- La columna **end_vod_date**: \"fecha de finalización de la disponibilidad del activo en la plataforma\" puede llegar a serles muy útil. ¿Tiene sentido recomendar algo que no va a estar disponible en el set de test? (a partir del 1 de marzo de 2021).\n",
        "- Comiencen con algo SIMPLE. No se compliquen con todas las columnas que tiene el dataset. No van a necesitar usar todas, muchas columnas podrán descartarlas dependiendo del enfoque que tomen.\n",
        "\n",
        "Datos:\n",
        "- https://drive.google.com/file/d/1QjbqJvU0PTClEhReOyzr96BS-HpyyUKT/view?usp=sharing\n",
        "- https://drive.google.com/file/d/1ih6SZc44w8FXdFKQJ2l-aqEWFpfceGuN/view?usp=sharing\n",
        "\n",
        "Fecha de entrega: **30 de Enero de 2023**.\n",
        "\n",
        "Subir a un repositorio de github (público) y enviar el link a alexispacek@gmail.com. De paso les sirve para ir armando su perfil de github con algunos proyectos 😉.\n",
        "\n"
      ]
    },
    {
      "cell_type": "markdown",
      "metadata": {},
      "source": []
    }
  ],
  "metadata": {
    "colab": {
      "collapsed_sections": [],
      "name": "Entrega3.ipynb",
      "provenance": []
    },
    "kernelspec": {
      "display_name": "base",
      "language": "python",
      "name": "python3"
    },
    "language_info": {
      "name": "python",
      "version": "3.8.13 | packaged by conda-forge | (default, Mar 25 2022, 05:59:45) [MSC v.1929 64 bit (AMD64)]"
    },
    "vscode": {
      "interpreter": {
        "hash": "892d461b55a6ce994a56bafd67ae2f3489d9f23234c096cfb51dfe498c166e4b"
      }
    }
  },
  "nbformat": 4,
  "nbformat_minor": 0
}
